{
 "cells": [
  {
   "cell_type": "markdown",
   "metadata": {},
   "source": [
    "# Day 3 Reading Journal\n",
    "\n",
    "This journal includes several required exercises, but it is meant to encourage active reading more generally.  You should use the journal to take detailed notes, catalog questions, and explore the content from Think Python deeply.\n",
    "\n",
    "Reading: Think Python Chapter 8, 10.1-10.6\n",
    "\n",
    "**Due: Thursday, January 26 at noon**\n",
    "\n"
   ]
  },
  {
   "cell_type": "markdown",
   "metadata": {},
   "source": [
    "## [Chapter 8](http://www.greenteapress.com/thinkpython2/html/thinkpython2009.html)\n",
    "\n",
    "Note: the exercise numbers below match up with the reading for ease of cross referencing."
   ]
  },
  {
   "cell_type": "markdown",
   "metadata": {},
   "source": [
    "### Chapter 8.3  \n",
    "\n",
    "Write a function that takes a string as an argument and displays the letters backward, one per line."
   ]
  },
  {
   "cell_type": "code",
   "execution_count": 9,
   "metadata": {
    "collapsed": false
   },
   "outputs": [
    {
     "name": "stdout",
     "output_type": "stream",
     "text": [
      "a\n",
      "n\n",
      "a\n",
      "n\n",
      "a\n",
      "b\n"
     ]
    },
    {
     "data": {
      "text/plain": [
       "'b'"
      ]
     },
     "execution_count": 9,
     "metadata": {},
     "output_type": "execute_result"
    }
   ],
   "source": [
    "def backwards(s):\n",
    "    ans = ''\n",
    "    index = len(s) - 1\n",
    "    while index >= 0:\n",
    "        ans = s[index]\n",
    "        print(ans)\n",
    "        index = index - 1\n",
    "    return ans\n",
    "\n",
    "backwards('banana')"
   ]
  },
  {
   "cell_type": "markdown",
   "metadata": {},
   "source": [
    "**Challenge (optional):** Write a function that translates words into [Pig Latin](https://en.wikipedia.org/wiki/Pig_Latin). \n",
    "\n",
    "**Challenge to the challenge**: Write a function that translates back into English."
   ]
  },
  {
   "cell_type": "code",
   "execution_count": 130,
   "metadata": {
    "collapsed": false
   },
   "outputs": [
    {
     "name": "stdout",
     "output_type": "stream",
     "text": [
      "That is not a word, that is a phrase!\n",
      "ananabay\n",
      "ableway\n",
      "eeringchay\n"
     ]
    }
   ],
   "source": [
    "#tried to use the rules but some of them are a bit off (for instance, I never accounted for vowel sounds, only vowels, etc)\n",
    "\n",
    "def first2(s):\n",
    "    return s[:2]\n",
    "\n",
    "def pig_latin(word):\n",
    "    ans = ''\n",
    "    index = len(ans) - 1\n",
    "    \n",
    "    #if more than one word, returns admonishment\n",
    "    if word.find(' ') != -1:\n",
    "        ans = 'That is not a word, that is a phrase!'\n",
    "    \n",
    "    #if it starts with a vowel, ends with 'way'\n",
    "    elif word[0] == 'a' or word[0] == 'e' or word[0] == 'i' or word[0] == 'o' or word[0] == 'u':\n",
    "        ans = word + 'way'\n",
    "    \n",
    "    #if there are common consonant clusters, the end is two letters and 'ay'\n",
    "    elif first2(word) == 'bl' or first2(word) == 'br' or first2(word) == 'ch' or first2(word) == 'cl' or first2(word) == 'cr' or first2(word) == 'dr' or first2(word) == 'fl' or first2(word) == 'fr' or first2(word) == 'gh' or first2(word) == 'gl' or first2(word) == 'gr' or first2(word) == 'ph' or first2(word) == 'pr' or first2(word) == 'qu' or first2(word) == 'sc' or first2(word) == 'sh' or first2(word) == 'sk' or first2(word) == 'sl' or first2(word) == 'sm' or first2(word) == 'sn' or first2(word) == 'sp' or first2(word) == 'st' or first2(word) == 'sw' or first2(word) == 'th' or first2(word) == 'tr' or first2(word) == 'tw' or first2(word) == 'wh' or first2(word) == 'wr':\n",
    "        ans = word[2:] + first2(word) + 'ay'\n",
    "    \n",
    "    #'basic'\n",
    "    else:\n",
    "        ans = word[1:] + word[0] + 'ay'\n",
    "        \n",
    "    return ans\n",
    "\n",
    "print(pig_latin('hello there'))\n",
    "print(pig_latin('banana'))\n",
    "print(pig_latin('able'))\n",
    "print(pig_latin('cheering'))"
   ]
  },
  {
   "cell_type": "code",
   "execution_count": null,
   "metadata": {
    "collapsed": true
   },
   "outputs": [],
   "source": [
    "def pig_latin(word):\n",
    "    \"\"\"\n",
    "    Return given 'word' translated into Pig Latin\n",
    "    \n",
    "    >>> pig_latin(\"software\")\n",
    "    'oftwaresay'\n",
    "    \"\"\"\n",
    "    pass #TODO: Implement me\n",
    "\n",
    "# If you'd like to actually run the doctests here, you can uncomment the lines below.\n",
    "# We use this slightly more complex method to test only the pig_latin function, without running tests on any other functions that may be in this notebook.\n",
    "#import doctest\n",
    "#doctest.run_docstring_examples(pig_latin, globals())"
   ]
  },
  {
   "cell_type": "markdown",
   "metadata": {},
   "source": [
    "### Chapter 8.7\n",
    "Encapsulate the character counting code in a fruitful function named `count` that accepts the string and the letter as arguments and returns the count."
   ]
  },
  {
   "cell_type": "code",
   "execution_count": 12,
   "metadata": {
    "collapsed": false
   },
   "outputs": [
    {
     "name": "stdout",
     "output_type": "stream",
     "text": [
      "3\n"
     ]
    }
   ],
   "source": [
    "def count(word, char):\n",
    "    count = 0\n",
    "    for letter in word:\n",
    "        if letter == char:\n",
    "            count = count + 1\n",
    "    return count\n",
    "\n",
    "print(count('banana', 'a'))"
   ]
  },
  {
   "cell_type": "markdown",
   "metadata": {},
   "source": [
    "### Exercise 8.1\n",
    "Skim the documentation of the Python [string methods](http://docs.python.org/3/library/stdtypes.html#string-methods). Play with them to make sure you understand how they work-- strip, replace, and upper/lower are particularly useful. Show us some of your experiments."
   ]
  },
  {
   "cell_type": "code",
   "execution_count": 13,
   "metadata": {
    "collapsed": false
   },
   "outputs": [
    {
     "name": "stdout",
     "output_type": "stream",
     "text": [
      "I like spaces.\n",
      "pbs.org\n",
      "baynaynay\n",
      "bynyny\n",
      "PLEASE DO NOT SPEAK TO ME THAT WAY, TOM.\n",
      "me does what me wants, okay.\n",
      "I Like To Write Books But Am Terrible At Capitalization\n",
      "oOoO i'M sO qUiRkY lOl.\n",
      "I refuse to capitalize the beginning of my sentences.\n",
      "False\n",
      "True\n",
      "False\n"
     ]
    }
   ],
   "source": [
    "print('         I like spaces.'.lstrip())\n",
    "print('www.pbs.org'.lstrip('cmowz.'))\n",
    "\n",
    "print('banana'.replace('a', 'ay'))\n",
    "print('banana'.replace('a', 'ay'[1])) #shouldn't this only replace the first a?\n",
    "\n",
    "print('Please do not speak to me that way, Tom.'.upper())\n",
    "print('ME DOES WHAT ME WANTS, OKAY.'.lower())\n",
    "\n",
    "print('i like to write books but am terrible at capitalization'.title())\n",
    "\n",
    "print(\"OoOo I'm So QuIrKy LoL.\".swapcase())\n",
    "\n",
    "print('i refuse to capitalize the beginning of my sentences.'.capitalize())\n",
    "\n",
    "print('H'.islower())\n",
    "print('h'.islower())\n",
    "\n",
    "def any_lowercase1(s):\n",
    "    for c in s:\n",
    "        if c.islower():\n",
    "            return 'True'\n",
    "        else:\n",
    "            return 'False'\n",
    "print(any_lowercase1('EEllo'))"
   ]
  },
  {
   "cell_type": "markdown",
   "metadata": {},
   "source": [
    "### Exercise 8.4  \n",
    "\n",
    "The following functions are all intended to check whether a string contains any lowercase letters, but at least some of them are wrong. For each function, describe what the function actually does (assuming that the parameter is a string)."
   ]
  },
  {
   "cell_type": "code",
   "execution_count": null,
   "metadata": {
    "collapsed": true
   },
   "outputs": [],
   "source": [
    "def any_lowercase1(s):\n",
    "    for c in s:\n",
    "        if c.islower():\n",
    "            return True\n",
    "        else:\n",
    "            return False"
   ]
  },
  {
   "cell_type": "markdown",
   "metadata": {},
   "source": [
    "The function only checks if the first letter is lowercase. It will return True if the first letter is lowercase. Because it has already returned True, even if there are other capital letters after that, it will terminate the function. Thus, it is not accurate to what the function is supposed to do."
   ]
  },
  {
   "cell_type": "markdown",
   "metadata": {},
   "source": [
    " "
   ]
  },
  {
   "cell_type": "code",
   "execution_count": null,
   "metadata": {
    "collapsed": true
   },
   "outputs": [],
   "source": [
    "def any_lowercase2(s):\n",
    "    for c in s:\n",
    "        if 'c'.islower():\n",
    "            return 'True'\n",
    "        else:\n",
    "            return 'False'"
   ]
  },
  {
   "cell_type": "markdown",
   "metadata": {},
   "source": [
    "It returns strings instean of Booleans. This might be okay in some contexts, but if one is using this function with another function, it creates more lines of code to process the result(if any_lowercase2(x) == 'True' vs if any_lowercase2(x))). In addition, it checks if the character 'c' is lowercase, so it always returns true."
   ]
  },
  {
   "cell_type": "markdown",
   "metadata": {},
   "source": [
    " "
   ]
  },
  {
   "cell_type": "code",
   "execution_count": null,
   "metadata": {
    "collapsed": true
   },
   "outputs": [],
   "source": [
    "def any_lowercase3(s):\n",
    "    for c in s:\n",
    "        flag = c.islower()\n",
    "    return flag"
   ]
  },
  {
   "cell_type": "markdown",
   "metadata": {},
   "source": [
    "This function will return whether the last letter in the string is lowercase or uppercase, because it goes through the entire string and overwrites flag each time, until it reaches the last letter (flag will have the value of whether the last letter is lowercase or not) and then terminates, returning flag."
   ]
  },
  {
   "cell_type": "markdown",
   "metadata": {},
   "source": [
    " "
   ]
  },
  {
   "cell_type": "code",
   "execution_count": null,
   "metadata": {
    "collapsed": true
   },
   "outputs": [],
   "source": [
    "def any_lowercase4(s):\n",
    "    flag = False\n",
    "    for c in s:\n",
    "        flag = flag or c.islower()\n",
    "    return flag"
   ]
  },
  {
   "cell_type": "markdown",
   "metadata": {},
   "source": [
    "This sets flag automatically at False, and then goes through the string. If any letter is lowercase, it becomes true. This has the same issue as the previous function, in which flag will return the value of the last letter - because it waits to terminate after the for loop terminates, and the value of flag, at the end of the for loop, will be based on the value of the final letter."
   ]
  },
  {
   "cell_type": "markdown",
   "metadata": {},
   "source": [
    " "
   ]
  },
  {
   "cell_type": "code",
   "execution_count": null,
   "metadata": {
    "collapsed": true
   },
   "outputs": [],
   "source": [
    "def any_lowercase5(s):\n",
    "    for c in s:\n",
    "        if not c.islower():\n",
    "            return False\n",
    "    return True"
   ]
  },
  {
   "cell_type": "markdown",
   "metadata": {},
   "source": [
    "This function loops through the string, and if there are any capital letters, it will return False, If there are no capital letters(/all lowercase), it will return True. There are no issues with the function as it does what it is supposed to do."
   ]
  },
  {
   "cell_type": "markdown",
   "metadata": {},
   "source": [
    " "
   ]
  },
  {
   "cell_type": "markdown",
   "metadata": {},
   "source": [
    "## [Chapter 10.1 - 10.6](http://www.greenteapress.com/thinkpython2/html/thinkpython2011.html)\n",
    "\n",
    "You may want to review [state diagrams in Chapter 2](http://www.greenteapress.com/thinkpython2/html/thinkpython2003.html#toc13).\n",
    "\n"
   ]
  },
  {
   "cell_type": "markdown",
   "metadata": {},
   "source": [
    "**Quick check:** What type of items can be placed in a list?"
   ]
  },
  {
   "cell_type": "markdown",
   "metadata": {},
   "source": [
    "Any sort of item can be placed in a list: integers, floating-point numbers, strings, Booleans, other lists, etc.]"
   ]
  },
  {
   "cell_type": "markdown",
   "metadata": {},
   "source": [
    "**Quick check:** Give at least one similarity and one difference between lists and strings."
   ]
  },
  {
   "cell_type": "markdown",
   "metadata": {},
   "source": [
    "One similarity is that list indices work the same way as string indices do. For instance, integrers are used as an index and IndexErrors can occur. One difference is that while strings are immutable, lists are mutable."
   ]
  },
  {
   "cell_type": "markdown",
   "metadata": {},
   "source": [
    "### Exercise\n",
    "\n",
    "Write a Python function named `average` that takes a list of numbers and returns their arithmetic mean."
   ]
  },
  {
   "cell_type": "code",
   "execution_count": 1,
   "metadata": {
    "collapsed": false
   },
   "outputs": [
    {
     "name": "stdout",
     "output_type": "stream",
     "text": [
      "5.5\n"
     ]
    }
   ],
   "source": [
    "def average(numbers):\n",
    "    sum = 0\n",
    "    for i in range(len(numbers)):\n",
    "        sum = sum + numbers[i]\n",
    "    return sum/(len(numbers))\n",
    "\n",
    "print(average([1, 2, 3, 4, 5, 6, 7, 8, 9, 10]))"
   ]
  },
  {
   "cell_type": "markdown",
   "metadata": {},
   "source": [
    "### Exercise\n",
    "You own a restaurant, and you need to keep up with the latest food fads or risk losing your fickle customers. You decide to write a Python function that adds the hot new ingredient _du jour_ to each of your regular menu items and returns the trendy new menu."
   ]
  },
  {
   "cell_type": "code",
   "execution_count": 121,
   "metadata": {
    "collapsed": false
   },
   "outputs": [
    {
     "name": "stdout",
     "output_type": "stream",
     "text": [
      "['burger with kale', 'salad with kale', 'ice cream with kale']\n"
     ]
    }
   ],
   "source": [
    "def add_ingredient(menu, ingredient):\n",
    "    index = 0\n",
    "    for food in menu:\n",
    "        food = food + ' with ' + ingredient\n",
    "        menu[index] = food\n",
    "        index = index + 1\n",
    "    return menu\n",
    "\n",
    "print(add_ingredient([\"burger\", \"salad\", \"ice cream\"], \"kale\"))"
   ]
  },
  {
   "cell_type": "code",
   "execution_count": 6,
   "metadata": {
    "collapsed": false
   },
   "outputs": [],
   "source": [
    "def add_ingredient(menu, ingredient):\n",
    "    \"\"\"\n",
    "    Given a list of string 'menu' items and a trendy 'ingredient' string of the day,\n",
    "    return a new menu list of strings with the ingredient added to each.\n",
    "    \n",
    "    >>> add_ingredient([\"burger\", \"salad\", \"ice cream\"], \"kale\")\n",
    "    ['burger with kale', 'salad with kale', 'ice cream with kale']\n",
    "    \n",
    "    \"\"\"\n",
    "    pass    # TODO: Implement me\n",
    "\n",
    "# Running doctests in jupyter notebook:\n",
    "# If you'd like to actually run the doctests here, you can uncomment the lines below.\n",
    "# We use this slightly more complex method to test only the add_ingredient function,\n",
    "# without running tests on any other functions that may be in this notebook.\n",
    "\n",
    "#import doctest\n",
    "#doctest.run_docstring_examples(add_ingredient, globals(), verbose=True)"
   ]
  },
  {
   "cell_type": "markdown",
   "metadata": {},
   "source": [
    "## Quick poll\n",
    "About how long did you spend working on this reading journal?"
   ]
  },
  {
   "cell_type": "markdown",
   "metadata": {},
   "source": [
    "3 hours"
   ]
  },
  {
   "cell_type": "markdown",
   "metadata": {},
   "source": [
    "## Reading Journal feedback\n",
    "\n",
    "Have any comments on this Reading Journal? Feel free to leave them below and we'll read them when you submit your journal entry. This could include suggestions to improve the exercises, topics you'd like to see covered in class next time, or other feedback.\n",
    "\n",
    "If you have Python questions or run into problems while completing the reading, you should post them to Piazza instead so you can get a quick response before your journal is submitted."
   ]
  },
  {
   "cell_type": "markdown",
   "metadata": {},
   "source": [
    "Perhaps see the solution to the challenge to the challenge? I have some clue how to do it but didn't implement it, so I want to see if I was right or (probably) very wrong. Oh and for some reason my input commands would work the first or second time I compiles but would fail after even if I was recompiling code that was unchanged and had worked properly before."
   ]
  },
  {
   "cell_type": "markdown",
   "metadata": {},
   "source": [
    " "
   ]
  }
 ],
 "metadata": {
  "kernelspec": {
   "display_name": "Python 3",
   "language": "python",
   "name": "python3"
  },
  "language_info": {
   "codemirror_mode": {
    "name": "ipython",
    "version": 3
   },
   "file_extension": ".py",
   "mimetype": "text/x-python",
   "name": "python",
   "nbconvert_exporter": "python",
   "pygments_lexer": "ipython3",
   "version": "3.5.2"
  }
 },
 "nbformat": 4,
 "nbformat_minor": 0
}
