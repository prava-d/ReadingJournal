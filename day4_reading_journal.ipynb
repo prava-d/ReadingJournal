{
 "cells": [
  {
   "cell_type": "markdown",
   "metadata": {},
   "source": [
    "# Day 4 Reading Journal\n",
    "\n",
    "This journal includes several required exercises, but it is meant to encourage active reading more generally.  You should use the journal to take detailed notes, catalog questions, and explore the content from Think Python deeply.\n",
    "\n",
    "Reading: Think Python Chapter 10\n",
    "\n",
    "**Due: Monday, January 30 at 12 noon**\n",
    "\n"
   ]
  },
  {
   "cell_type": "markdown",
   "metadata": {},
   "source": [
    "## [Chapter 10](http://www.greenteapress.com/thinkpython2/html/thinkpython2011.html)\n",
    "\n",
    "You may want to review [state diagrams in Chapter 2](http://greenteapress.com/thinkpython2/html/thinkpython2003.html). [Python Tutor](http://pythontutor.com/) is also helpful for visualizing the state of your program.\n",
    "\n"
   ]
  },
  {
   "cell_type": "markdown",
   "metadata": {},
   "source": [
    "### Exercise 10.3 \n",
    "Write a function called `middle` that takes a list and returns a new list that contains all but the first and last elements. So `middle([1,2,3,4])` should return `[2,3]`."
   ]
  },
  {
   "cell_type": "code",
   "execution_count": 8,
   "metadata": {
    "collapsed": false
   },
   "outputs": [
    {
     "name": "stdout",
     "output_type": "stream",
     "text": [
      "['darkness', 'my', 'old']\n",
      "['Hello', 'darkness', 'my', 'old', 'friend']\n"
     ]
    }
   ],
   "source": [
    "def middle(list):\n",
    "    newlist = list[1:len(list)-1]\n",
    "    return newlist\n",
    "\n",
    "lyrics = [\"Hello\", \"darkness\", \"my\", \"old\", \"friend\"]\n",
    "print(middle(lyrics))\n",
    "\n",
    "middle(lyrics)\n",
    "print(lyrics)"
   ]
  },
  {
   "cell_type": "markdown",
   "metadata": {},
   "source": [
    "### Exercise 10.4 \n",
    "Write a function called `chop` that takes a list, modifies it by removing the first and last elements, and returns `None`.\n",
    "\n",
    "What is the difference between `middle` and `chop`? Sketch out the program state or take a look at each in Python Tutor and answer the question in the Markdown cell below."
   ]
  },
  {
   "cell_type": "code",
   "execution_count": 3,
   "metadata": {
    "collapsed": false
   },
   "outputs": [
    {
     "name": "stdout",
     "output_type": "stream",
     "text": [
      "None\n",
      "['darkness', 'my', 'old']\n"
     ]
    }
   ],
   "source": [
    "def chop(list):\n",
    "    list.remove(list[0])\n",
    "    list.remove(list[len(list)-1])\n",
    "    return None\n",
    "    \n",
    "print(chop([\"Hello\", \"darkness\", \"my\", \"old\", \"friend\"]))\n",
    "\n",
    "lyrics = [\"Hello\", \"darkness\", \"my\", \"old\", \"friend\"]\n",
    "chop(lyrics)\n",
    "print(lyrics)"
   ]
  },
  {
   "cell_type": "markdown",
   "metadata": {},
   "source": [
    "The middle function returns a new list that holds the middle of the previous list, whereas the cop function actually performs the function on the inputted list and changes that value (as evidenced by the difference between the prints for Exercise 10.3 and 10.4)."
   ]
  },
  {
   "cell_type": "markdown",
   "metadata": {},
   "source": [
    "### Exercise 10.6 \n",
    "Two words are anagrams if you can rearrange the letters from one to spell the other. Write a function called `is_anagram` that takes two strings and returns `True` if they are anagrams."
   ]
  },
  {
   "cell_type": "code",
   "execution_count": 28,
   "metadata": {
    "collapsed": false
   },
   "outputs": [
    {
     "name": "stdout",
     "output_type": "stream",
     "text": [
      "True\n",
      "False\n",
      "False\n"
     ]
    }
   ],
   "source": [
    "def is_anagram(string1, string2):\n",
    "    #sorted(x) is a list function that alphabetizes a list\n",
    "    letters1 = sorted(list(string1))\n",
    "    letters2 = sorted(list(string2))\n",
    "    if letters1 == letters2:\n",
    "        return True\n",
    "    return False\n",
    "    \n",
    "print(is_anagram(\"hellothere\", \"lloeretheh\"))\n",
    "print(is_anagram(\"hellothere\", \"lloekretheh\"))\n",
    "print(is_anagram(\"hellothere\", \"lloeretmeh\"))"
   ]
  },
  {
   "cell_type": "markdown",
   "metadata": {},
   "source": [
    "### Exercise 10.8  \n",
    "The (so-called) Birthday Paradox: <br /><br />\n",
    "1\\. Write a function called `has_duplicates` that takes a list and returns `True` if there is any element that appears more than once. It should not modify the original list.\n",
    "\n",
    "2\\. If there are 23 students in your class, what are the chances that two of you have the same birthday? Put your answer in the Markdown cell below. You can estimate this probability by generating random samples of 23 birthdays and checking for matches. Hint: you can generate random birthdays with the randint function from the [random module](https://docs.python.org/2/library/random.html).\n",
    "\n",
    "You can read about this problem at http://en.wikipedia.org/wiki/Birthday_paradox, and you can download Allen's solution from http://greenteapress.com/thinkpython2/code/birthday.py."
   ]
  },
  {
   "cell_type": "code",
   "execution_count": 53,
   "metadata": {
    "collapsed": false
   },
   "outputs": [
    {
     "name": "stdout",
     "output_type": "stream",
     "text": [
      "False\n",
      "True\n",
      "500 out of 1000 simulations held duplicate birthday dates. The probability is 0.5.\n"
     ]
    }
   ],
   "source": [
    "def has_duplicates(list):\n",
    "    templist = sorted(list)\n",
    "    index = 1;\n",
    "    while index < len(templist) - 1:\n",
    "        if templist[index] == templist[index - 1] or templist[index] == templist[index + 1]:\n",
    "            return True\n",
    "        index += 1\n",
    "    return False\n",
    "\n",
    "print(has_duplicates(['a', 'b', 'c', 'd', 'e']))\n",
    "print(has_duplicates(['a', 'b', 'c', 'd', 'c', 'e']))\n",
    "\n",
    "def birthday_dates():\n",
    "    dates = []\n",
    "    for i in range(23):\n",
    "        dates.append(random.randint(1, 365))\n",
    "    return dates\n",
    "\n",
    "def probability():\n",
    "    count = 0\n",
    "    for i in range(1000):\n",
    "        birthdays = birthday_dates()\n",
    "        if has_duplicates(birthdays):\n",
    "            count += 1\n",
    "    return count\n",
    "\n",
    "prob_23 = probability()\n",
    "print(str(prob_23) + \" out of 1000 simulations held duplicate birthday dates. The probability is \" + str(prob_23/1000) + \".\")\n"
   ]
  },
  {
   "cell_type": "markdown",
   "metadata": {},
   "source": [
    "If there are 23 students in my class, the probability that we have the same birthday is around 50%."
   ]
  },
  {
   "cell_type": "markdown",
   "metadata": {},
   "source": [
    "### Challenge: Exercise 10.10 (optional)\n",
    "\n",
    "You should read [Chapter 9.1](http://www.greenteapress.com/thinkpython2/html/thinkpython2010.html) and do Exercise 1 first.\n",
    "\n",
    "To check whether a word is in the word list, you could use the `in` operator, but it would be relatively slow because it searches through the words in order (try it).\n",
    "\n",
    "Because the words are in alphabetical order, we can speed things up with a bisection search (also known as binary search), which is similar to what you do when you look a word up in the dictionary. You start in the middle and check to see whether the word you are looking for comes before the word in the middle of the list. If so, then you search the first half of the list the same way. Otherwise you search the second half.\n",
    "\n",
    "Either way, you cut the remaining search space in half. If the word list has 113,809 words, it will take about 17 steps to find the word or conclude that it’s not there.\n",
    "\n",
    "Write a function called `bisect` that takes a sorted list and a target value and returns the index of the value in the list, if it’s there, or `None` if it’s not.\n",
    "\n",
    "Or you could read the documentation of the `bisect` module and use that! Solution: http://greenteapress.com/thinkpython2/code/inlist.py."
   ]
  },
  {
   "cell_type": "code",
   "execution_count": null,
   "metadata": {
    "collapsed": true
   },
   "outputs": [],
   "source": []
  },
  {
   "cell_type": "markdown",
   "metadata": {},
   "source": [
    "## Reading Journal feedback\n",
    "\n",
    "Have any comments on this Reading Journal? Feel free to leave them [here](https://goo.gl/forms/hZqCUAi4ir7hVN6x2) and we'll read them when you submit your journal entry. This could include suggestions to improve the exercises, topics you'd like to see covered in class next time, or other feedback.\n",
    "\n",
    "If you have Python questions or run into problems while completing the reading, you should post them to Piazza instead so you can get a quick response before your journal is submitted."
   ]
  }
 ],
 "metadata": {
  "kernelspec": {
   "display_name": "Python 3",
   "language": "python",
   "name": "python3"
  },
  "language_info": {
   "codemirror_mode": {
    "name": "ipython",
    "version": 3
   },
   "file_extension": ".py",
   "mimetype": "text/x-python",
   "name": "python",
   "nbconvert_exporter": "python",
   "pygments_lexer": "ipython3",
   "version": "3.5.2"
  }
 },
 "nbformat": 4,
 "nbformat_minor": 0
}
