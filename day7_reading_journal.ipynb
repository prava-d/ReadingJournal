{
 "cells": [
  {
   "cell_type": "markdown",
   "metadata": {},
   "source": [
    "# Day 7 Reading Journal\n",
    "\n",
    "This journal includes several required exercises, but it is meant to encourage active reading more generally.  You should use the journal to take detailed notes, catalog questions, and explore the content from Think Python deeply.\n",
    "\n",
    "Reading: Think Python Chapter 11, 12\n",
    "\n",
    "**Due: Monday, February 13 at 12 noon**\n",
    "\n"
   ]
  },
  {
   "cell_type": "markdown",
   "metadata": {},
   "source": [
    "## [Chapter 11](http://www.greenteapress.com/thinkpython/html/thinkpython012.html)\n"
   ]
  },
  {
   "cell_type": "markdown",
   "metadata": {},
   "source": [
    "**Quick check:** In about one sentence using your own words, what is a dictionary?"
   ]
  },
  {
   "cell_type": "markdown",
   "metadata": {},
   "source": [
    "A dictionary \"is a mapping from keys to their corresponding values.\" Essentially, they are like lists, except instead of using indices to search, they can use practically anything. (It kind of works . . . like a dictionary.)"
   ]
  },
  {
   "cell_type": "markdown",
   "metadata": {},
   "source": [
    " "
   ]
  },
  {
   "cell_type": "markdown",
   "metadata": {
    "is_question": true,
    "problem": "Exercise 11.2"
   },
   "source": [
    "### Exercise 11.2  \n",
    "\n",
    "Dictionaries have a method called [`get`](https://docs.python.org/3/library/stdtypes.html#mapping-types-dict) that takes a key and a default value. If the key appears in the dictionary, `get` returns the corresponding value; otherwise it returns the default value. For example:\n",
    "\n",
    "```\n",
    ">>> h = histogram('a')\n",
    ">>> print h\n",
    "{'a': 1}\n",
    ">>> h.get('a', 0)\n",
    "1\n",
    ">>> h.get('b', 0)\n",
    "0\n",
    "```\n",
    "\n",
    "Use `get` to write `histogram` more concisely. You should be able to eliminate the `if` statement. Add unit tests for your histogram implementation."
   ]
  },
  {
   "cell_type": "code",
   "execution_count": 1,
   "metadata": {
    "collapsed": false,
    "solution": "Exercise 11.2"
   },
   "outputs": [],
   "source": [
    "def histogram(s):\n",
    "    d = dict()\n",
    "    for c in s:\n",
    "        if c not in d:\n",
    "            d[c] = 1\n",
    "        else:\n",
    "            d[c] += 1\n",
    "    return d"
   ]
  },
  {
   "cell_type": "code",
   "execution_count": 20,
   "metadata": {
    "collapsed": false
   },
   "outputs": [
    {
     "data": {
      "text/plain": [
       "TestResults(failed=0, attempted=4)"
      ]
     },
     "execution_count": 20,
     "metadata": {},
     "output_type": "execute_result"
    }
   ],
   "source": [
    "import doctest\n",
    "\n",
    "def histogram(s):\n",
    "    \"\"\"\n",
    "        >>> histogram('hhhggf')\n",
    "        {'h': 3, 'f': 1, 'g': 2}\n",
    "        >>> histogram('I never learned this in Java')\n",
    "        {'r': 2, 'e': 4, ' ': 5, 'l': 1, 'd': 1, 'i': 2, 't': 1, 'n': 3, 'a': 3, 'J': 1, 'I': 1, 's': 1, 'h': 1, 'v': 2}\n",
    "    \"\"\"\n",
    "    d = dict()\n",
    "    for c in s:\n",
    "        d[c] = d.get(c, 0) + 1\n",
    "    return d\n",
    "\n",
    "doctest.testmod()"
   ]
  },
  {
   "cell_type": "markdown",
   "metadata": {
    "is_question": true,
    "problem": "Exercise 11.4"
   },
   "source": [
    "### Exercise 11.4  \n",
    "\n",
    "Modify `reverse_lookup` so that it builds and returns a list of all keys that map to `v`, or an empty list if there are none. Add unit tests for your implementation."
   ]
  },
  {
   "cell_type": "code",
   "execution_count": null,
   "metadata": {
    "collapsed": true,
    "solution": "Exercise 11.4"
   },
   "outputs": [],
   "source": [
    "def reverse_lookup(d, v):\n",
    "    for k in d:\n",
    "        if d[k] == v:\n",
    "            return k\n",
    "    raise ValueError"
   ]
  },
  {
   "cell_type": "code",
   "execution_count": 21,
   "metadata": {
    "collapsed": false
   },
   "outputs": [
    {
     "data": {
      "text/plain": [
       "TestResults(failed=0, attempted=4)"
      ]
     },
     "execution_count": 21,
     "metadata": {},
     "output_type": "execute_result"
    }
   ],
   "source": [
    "def reverse_lookup(d, v):\n",
    "    \"\"\"\n",
    "        >>> reverse_lookup(histogram('hhhggffhh'), 2)\n",
    "        ['f', 'g']\n",
    "        >>> reverse_lookup(histogram('hgf'), 2)\n",
    "        []\n",
    "    \"\"\"\n",
    "    keys = []\n",
    "    for k in d:\n",
    "        if d[k] == v:\n",
    "            keys.append(k)\n",
    "    \n",
    "    return keys\n",
    "\n",
    "doctest.testmod()"
   ]
  },
  {
   "cell_type": "markdown",
   "metadata": {},
   "source": [
    "If you'd like to learn more about errors and exceptions, you can check out the [Python tutorial](https://docs.python.org/3/tutorial/errors.html) or read ahead to [Appendix A](http://www.greenteapress.com/thinkpython2/html/thinkpython2021.html) of Think Python. If you choose to use doctest for your unit testing, it can also [deal with exceptions](https://docs.python.org/3/library/doctest.html#what-about-exceptions)."
   ]
  },
  {
   "cell_type": "markdown",
   "metadata": {},
   "source": [
    " "
   ]
  },
  {
   "cell_type": "markdown",
   "metadata": {},
   "source": [
    "**Quick check** What type of objects can be used as keys to a dictionary, i.e. what property must they have?"
   ]
  },
  {
   "cell_type": "markdown",
   "metadata": {},
   "source": [
    "The keys must be hashable and immutable."
   ]
  },
  {
   "cell_type": "markdown",
   "metadata": {},
   "source": [
    " "
   ]
  },
  {
   "cell_type": "markdown",
   "metadata": {
    "is_question": true,
    "problem": "Exercise 11.6"
   },
   "source": [
    "### Exercise 11.6 (modified)\n",
    "\n",
    "Create a memoized version of your Levenshtein distance function from Day 7. What kind of performance change do you see?\n",
    "\n",
    "Optional: If you'd like to get some quantitative results, you could check out the [timeit](https://docs.python.org/3/library/timeit.html) module\n",
    "\n",
    "Note: You can also study Fibonacci here if you prefer."
   ]
  },
  {
   "cell_type": "code",
   "execution_count": 54,
   "metadata": {
    "collapsed": false,
    "solution": "Exercise 11.6"
   },
   "outputs": [
    {
     "name": "stdout",
     "output_type": "stream",
     "text": [
      "14930352\n"
     ]
    }
   ],
   "source": [
    "sequence = {0:0, 1:1}\n",
    "\n",
    "def fibonacci (n):\n",
    "    if n  in sequence:\n",
    "        return sequence[n]\n",
    "    num = fibonacci(n - 1) + fibonacci(n - 2)\n",
    "    sequence[n] = num\n",
    "    return num\n",
    "\n",
    "print(fibonacci(36))"
   ]
  },
  {
   "cell_type": "code",
   "execution_count": 55,
   "metadata": {
    "collapsed": false
   },
   "outputs": [
    {
     "name": "stdout",
     "output_type": "stream",
     "text": [
      "14930352\n"
     ]
    }
   ],
   "source": [
    "def fibonacci_bad(n):\n",
    "    if n > 1:\n",
    "        return fibonacci_bad(n - 1) + fibonacci_bad(n - 2)\n",
    "    return n\n",
    "    \n",
    "print(fibonacci_bad(36))"
   ]
  },
  {
   "cell_type": "markdown",
   "metadata": {},
   "source": [
    "The memoized version of the fibonacci sequence is really fast! To double check, I compared it with the recurse fibonacci sequence - and it did it much faster. I remember in java class, it was almost impossible to get the fibonacci sequence up to n = 50 without breaking our laptops."
   ]
  },
  {
   "cell_type": "markdown",
   "metadata": {},
   "source": [
    " "
   ]
  },
  {
   "cell_type": "markdown",
   "metadata": {},
   "source": [
    "## [Chapter 12](http://www.greenteapress.com/thinkpython2/html/thinkpython2013.html)\n",
    "\n",
    "**Quick check:** In about one sentence using your own words, what is a tuple?"
   ]
  },
  {
   "cell_type": "markdown",
   "metadata": {},
   "source": [
    "A tuple is a sequence of immutable python objects."
   ]
  },
  {
   "cell_type": "markdown",
   "metadata": {},
   "source": [
    " "
   ]
  },
  {
   "cell_type": "markdown",
   "metadata": {
    "is_question": true,
    "problem": "Exercise 12.1"
   },
   "source": [
    "### Chapter 12.4  \n",
    "\n",
    "Many of the built-in functions use variable-length argument tuples. For example, `max` and `min` can take any number of arguments:\n",
    "\n",
    "```\n",
    ">>> max(1,2,3)\n",
    "3\n",
    "```\n",
    "\n",
    "But `sum` does not.\n",
    "\n",
    "```\n",
    ">>> sum(1,2,3)\n",
    "TypeError: sum expected at most 2 arguments, got 3\n",
    "```\n",
    "\n",
    "Write a function called ```sumall``` that takes any number of arguments and returns their sum. \n",
    "\n",
    "Write unit tests for your function. Do I actually need to keep saying this? Let's assume it's always a good idea :)"
   ]
  },
  {
   "cell_type": "code",
   "execution_count": 61,
   "metadata": {
    "collapsed": false,
    "solution": "Exercise 12.1"
   },
   "outputs": [
    {
     "data": {
      "text/plain": [
       "TestResults(failed=0, attempted=7)"
      ]
     },
     "execution_count": 61,
     "metadata": {},
     "output_type": "execute_result"
    }
   ],
   "source": [
    "def sum_all(*nums):\n",
    "    \"\"\"\n",
    "        >>> sum_all(1, 2, 3, 4, 5)\n",
    "        15\n",
    "        >>> sum_all(3)\n",
    "        3\n",
    "        >>> sum_all(0)\n",
    "        0\n",
    "    \"\"\"\n",
    "    sum = 0\n",
    "    for n in nums:\n",
    "        sum += n\n",
    "    return sum\n",
    "\n",
    "doctest.testmod()"
   ]
  },
  {
   "cell_type": "markdown",
   "metadata": {},
   "source": [
    "If you're interested in more flexible ways to pass arguments to functions, check out the [Python tutorial](https://docs.python.org/3/tutorial/controlflow.html#more-on-defining-functions). For instance, you can also use keyword arguments, which are collected into a dictionary just like `*` gathers variable numbers of positional arguments into a tuple.\n",
    "\n",
    "This pattern is very common for defining functions with complex optional behaviors in Python, and you will often see definitions like:\n",
    "\n",
    "```\n",
    "def my_func(required_argument1, *arguments, **keywords):\n",
    "    ...\n",
    "```"
   ]
  },
  {
   "cell_type": "markdown",
   "metadata": {},
   "source": [
    " "
   ]
  },
  {
   "cell_type": "markdown",
   "metadata": {
    "is_question": true,
    "problem": "Exercise 12 sort"
   },
   "source": [
    "### Exercise\n",
    "\n",
    "Write a function `sort_by_last_letter` that takes a list of words and returns a new list with the words sorted alphabetically by the _last letter_ in the word. Hint: use the **Decorate, Sort, Undecorate** pattern. Write unit tests for your function."
   ]
  },
  {
   "cell_type": "code",
   "execution_count": 70,
   "metadata": {
    "collapsed": false,
    "solution": "Exercise 12 sort"
   },
   "outputs": [
    {
     "data": {
      "text/plain": [
       "TestResults(failed=0, attempted=9)"
      ]
     },
     "execution_count": 70,
     "metadata": {},
     "output_type": "execute_result"
    }
   ],
   "source": [
    "def sort_by_last_letter(word_list):\n",
    "    \"\"\"\n",
    "        >>> sort_by_last_letter(['glad', 'mad', 'sad', 'fad', 'rad'])\n",
    "        ['fad', 'glad', 'mad', 'rad', 'sad']\n",
    "        >>> sort_by_last_letter(['tomb','Aruba', 'make', 'roc', 'had'])\n",
    "        ['Aruba', 'tomb', 'roc', 'had', 'make']\n",
    "    \"\"\"\n",
    "    sorted_list = sorted([word[-1] + word for word in word_list])\n",
    "    return [word[1:] for word in sorted_list]\n",
    "    \n",
    "doctest.testmod()"
   ]
  },
  {
   "cell_type": "markdown",
   "metadata": {},
   "source": [
    " "
   ]
  },
  {
   "cell_type": "markdown",
   "metadata": {},
   "source": [
    "**Quick check** Give an example of when you might use each sequence type:\n",
    "\n",
    "- tuple\n",
    "\n",
    "- list\n",
    "\n",
    "- string"
   ]
  },
  {
   "cell_type": "markdown",
   "metadata": {},
   "source": [
    "You might use a tuple when you have something like a dictionary, with keys to look up items. You might use a list when you have data that you need to add to, like temperature over a lifetime (per year). You might use a string if you only have one item - it can be used as a part of a tuple or list, but doesn't hold multiple data points."
   ]
  },
  {
   "cell_type": "markdown",
   "metadata": {},
   "source": [
    " "
   ]
  },
  {
   "cell_type": "markdown",
   "metadata": {
    "is_question": true,
    "problem": "Exercise 12.3"
   },
   "source": [
    "### Exercise 12.1 \n",
    "\n",
    "Write a function called `most_frequent` that takes a string and prints the letters in decreasing order of frequency. Find text samples from several different languages and see how letter frequency varies between languages. Compare your results with the tables at http://en.wikipedia.org/wiki/Letter_frequencies. \n",
    "\n",
    "Allen's solution (try it on your own first): http://greenteapress.com/thinkpython2/code/most_frequent.py. "
   ]
  },
  {
   "cell_type": "code",
   "execution_count": 75,
   "metadata": {
    "collapsed": false,
    "solution": "Exercise 12.3"
   },
   "outputs": [
    {
     "name": "stdout",
     "output_type": "stream",
     "text": [
      "Trying:\n",
      "    histogram('hhhggf')\n",
      "Expecting:\n",
      "    {'h': 3, 'f': 1, 'g': 2}\n",
      "ok\n",
      "Trying:\n",
      "    histogram('I never learned this in Java')\n",
      "Expecting:\n",
      "    {'r': 2, 'e': 4, ' ': 5, 'l': 1, 'd': 1, 'i': 2, 't': 1, 'n': 3, 'a': 3, 'J': 1, 'I': 1, 's': 1, 'h': 1, 'v': 2}\n",
      "ok\n",
      "Trying:\n",
      "    most_frequent('fffffhhhggf')\n",
      "Expecting:\n",
      "    ['f', 'h', 'g']\n",
      "ok\n",
      "Trying:\n",
      "    reverse_lookup(histogram('hhhggffhh'), 2)\n",
      "Expecting:\n",
      "    ['f', 'g']\n",
      "ok\n",
      "Trying:\n",
      "    reverse_lookup(histogram('hgf'), 2)\n",
      "Expecting:\n",
      "    []\n",
      "ok\n",
      "Trying:\n",
      "    sort_by_last_letter(['glad', 'mad', 'sad', 'fad', 'rad'])\n",
      "Expecting:\n",
      "    ['fad', 'glad', 'mad', 'rad', 'sad']\n",
      "ok\n",
      "Trying:\n",
      "    sort_by_last_letter(['tomb','Aruba', 'make', 'roc', 'had'])\n",
      "Expecting:\n",
      "    ['Aruba', 'tomb', 'roc', 'had', 'make']\n",
      "ok\n",
      "Trying:\n",
      "    sum_all(1, 2, 3, 4, 5)\n",
      "Expecting:\n",
      "    15\n",
      "ok\n",
      "Trying:\n",
      "    sum_all(3)\n",
      "Expecting:\n",
      "    3\n",
      "ok\n",
      "Trying:\n",
      "    sum_all(0)\n",
      "Expecting:\n",
      "    0\n",
      "ok\n",
      "5 items had no tests:\n",
      "    __main__\n",
      "    __main__.fib\n",
      "    __main__.fibonacci\n",
      "    __main__.fibonacci_bad\n",
      "    __main__.memoize\n",
      "5 items passed all tests:\n",
      "   2 tests in __main__.histogram\n",
      "   1 tests in __main__.most_frequent\n",
      "   2 tests in __main__.reverse_lookup\n",
      "   2 tests in __main__.sort_by_last_letter\n",
      "   3 tests in __main__.sum_all\n",
      "10 tests in 10 items.\n",
      "10 passed and 0 failed.\n",
      "Test passed.\n"
     ]
    },
    {
     "data": {
      "text/plain": [
       "TestResults(failed=0, attempted=10)"
      ]
     },
     "execution_count": 75,
     "metadata": {},
     "output_type": "execute_result"
    }
   ],
   "source": [
    "def most_frequent(s):\n",
    "    \"\"\"\n",
    "    >>> most_frequent('fffffhhhggf')\n",
    "    ['f', 'h', 'g']\n",
    "    \"\"\"\n",
    "    histo = histogram(s)\n",
    "    \n",
    "    temp = []\n",
    "    for x, f in histo.items():\n",
    "        temp.append((f, x))\n",
    "        \n",
    "    temp.sort(reverse=True)\n",
    "    \n",
    "    sorted_list = []\n",
    "    for f, x in temp:\n",
    "        sorted_list.append(x)\n",
    "        \n",
    "    return sorted_list\n",
    "\n",
    "doctest.testmod(verbose=True)"
   ]
  },
  {
   "cell_type": "markdown",
   "metadata": {},
   "source": [
    " "
   ]
  },
  {
   "cell_type": "markdown",
   "metadata": {
    "is_question": true,
    "problem": "Exercise 12.6"
   },
   "source": [
    "### Challenge: Exercise 12.4   (optional)\n",
    "\n",
    "From a [Car Talk Puzzler](http://www.cartalk.com/content/puzzlers):\n",
    "\n",
    "What is the longest English word, that remains a valid English word, as you remove its letters one at a time?\n",
    "\n",
    "Now, letters can be removed from either end, or the middle, but you can’t rearrange any of the letters. Every time you drop a letter, you wind up with another English word. If you do that, you’re eventually going to wind up with one letter and that too is going to be an English word—one that’s found in the dictionary. I want to know what’s the longest word and how many letters does it have?\n",
    "\n",
    "I’m going to give you a little modest example: Sprite. Ok? You start off with sprite, you take a letter off, one from the interior of the word, take the r away, and we’re left with the word spite, then we take the e off the end, we’re left with spit, we take the s off, we’re left with pit, it, and I. \n",
    "\n",
    "Write a program to find all words that can be reduced in this way, and then find the longest one.\n",
    "\n",
    "This exercise is a little more challenging than most, so here are some suggestions:\n",
    "\n",
    "- You might want to write a function that takes a word and computes a list of all the words that can be formed by removing one letter. These are the “children” of the word.\n",
    "- Recursively, a word is reducible if any of its children are reducible. As a base case, you can consider the empty string reducible.\n",
    "- The word list from [Chapter 9.1](http://www.greenteapress.com/thinkpython2/html/thinkpython2010.html) Exercise 1 doesn’t contain single letter words. So you might want to add “I”, “a”, and the empty string.\n",
    "- To improve the performance of your program, you might want to memoize the words that are known to be reducible.\n",
    "\n",
    "Allen's solution: http://greenteapress.com/thinkpython2/code/reducible.py."
   ]
  },
  {
   "cell_type": "code",
   "execution_count": null,
   "metadata": {
    "collapsed": true,
    "solution": "Exercise 12.6"
   },
   "outputs": [],
   "source": []
  },
  {
   "cell_type": "markdown",
   "metadata": {},
   "source": [
    " "
   ]
  },
  {
   "cell_type": "markdown",
   "metadata": {
    "is_question": true,
    "problem": "Feedback"
   },
   "source": [
    "## Reading Journal feedback\n",
    "\n",
    "[Please complete this short survey](https://docs.google.com/forms/d/e/1FAIpQLScQekhUrf6YYjpfQiAAbavLIA-IJklv_PX1BWbGgxj7JPolmw/viewform?c=0&w=1)\n",
    "\n",
    "If you have any comments on this Reading Journal, feel free to leave them in the survey linked above. This could include suggestions to improve the exercises, topics you'd like to see covered in class next time, or other feedback.\n",
    "\n",
    "If you have Python questions or run into problems while completing the reading, you should post them to Piazza instead so you can get a quick response before your journal is submitted."
   ]
  },
  {
   "cell_type": "markdown",
   "metadata": {
    "feedback_response": true,
    "solution": "Feedback"
   },
   "source": [
    " "
   ]
  }
 ],
 "metadata": {
  "kernelspec": {
   "display_name": "Python 3",
   "language": "python",
   "name": "python3"
  },
  "language_info": {
   "codemirror_mode": {
    "name": "ipython",
    "version": 3
   },
   "file_extension": ".py",
   "mimetype": "text/x-python",
   "name": "python",
   "nbconvert_exporter": "python",
   "pygments_lexer": "ipython3",
   "version": "3.5.2"
  }
 },
 "nbformat": 4,
 "nbformat_minor": 0
}
