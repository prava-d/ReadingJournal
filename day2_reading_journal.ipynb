{
 "cells": [
  {
   "cell_type": "markdown",
   "metadata": {},
   "source": [
    "# Day 2 Reading Journal\n",
    "\n",
    "This journal includes several required exercises, but it is meant to encourage active reading more generally.  You should use the journal to take detailed notes, catalog questions, and explore the content from Think Python deeply.\n",
    "\n",
    "Reading: Think Python Chapter 6.1-6.4, 7\n",
    "\n",
    "**Due: Tuesday, January 24 at 12 noon**\n",
    "\n"
   ]
  },
  {
   "cell_type": "markdown",
   "metadata": {},
   "source": [
    "## [Chapter 6.1-6.4](http://greenteapress.com/thinkpython2/html/thinkpython2007.html)\n",
    "\n",
    "Note: the exercise numbers below match up with the reading for ease of cross referencing."
   ]
  },
  {
   "cell_type": "markdown",
   "metadata": {},
   "source": [
    "**Quick check:** What is a _fruitful function_?"
   ]
  },
  {
   "cell_type": "markdown",
   "metadata": {},
   "source": [
    "A fruitful function is a function that yields a return value. "
   ]
  },
  {
   "cell_type": "markdown",
   "metadata": {},
   "source": [
    "### Chapter 6.1 \n",
    "Write a `compare` function that returns `1` if `x > y`, `0` if `x == y`, and `-1` if `x < y`."
   ]
  },
  {
   "cell_type": "code",
   "execution_count": 5,
   "metadata": {
    "collapsed": false
   },
   "outputs": [
    {
     "name": "stdout",
     "output_type": "stream",
     "text": [
      "-1\n",
      "0\n",
      "1\n"
     ]
    }
   ],
   "source": [
    "def compare(x, y):\n",
    "    if x > y:\n",
    "        return 1\n",
    "    elif x == y:\n",
    "        return 0\n",
    "    else:\n",
    "        return -1\n",
    "\n",
    "print(compare(1, 2))\n",
    "print(compare(1, 1))\n",
    "print(compare(2, 1))"
   ]
  },
  {
   "cell_type": "markdown",
   "metadata": {},
   "source": [
    "**Quick check:** Modify the `absolute_value` function so that it returns the correct result for all integer inputs."
   ]
  },
  {
   "cell_type": "code",
   "execution_count": 7,
   "metadata": {
    "collapsed": false
   },
   "outputs": [
    {
     "name": "stdout",
     "output_type": "stream",
     "text": [
      "1\n",
      "0\n",
      "1\n"
     ]
    }
   ],
   "source": [
    "def absolute_value(x):\n",
    "    if x < 0:\n",
    "        return -x\n",
    "    else:\n",
    "        return x\n",
    "\n",
    "print(absolute_value(-1))\n",
    "print(absolute_value(0))\n",
    "print(absolute_value(1))"
   ]
  },
  {
   "cell_type": "markdown",
   "metadata": {},
   "source": [
    "### Chapter 6.2 \n",
    "Use incremental development to write a function called `hypotenuse` that returns the length of the hypotenuse of a right triangle given the lengths of the two legs as arguments. Record each stage of the development process as you go, using as many cells as you need."
   ]
  },
  {
   "cell_type": "code",
   "execution_count": 8,
   "metadata": {
    "collapsed": false
   },
   "outputs": [
    {
     "name": "stdout",
     "output_type": "stream",
     "text": [
      "0.0\n"
     ]
    }
   ],
   "source": [
    "def hypotenuse (a, b):\n",
    "    return 0.0\n",
    "\n",
    "print(hypotenuse (3, 4))"
   ]
  },
  {
   "cell_type": "code",
   "execution_count": 13,
   "metadata": {
    "collapsed": false
   },
   "outputs": [
    {
     "name": "stdout",
     "output_type": "stream",
     "text": [
      "a squared is 9\n",
      "b squared is 16\n",
      "0.0\n"
     ]
    }
   ],
   "source": [
    "def hypotenuse (a, b):\n",
    "    a2 = a**2\n",
    "    b2 = b**2\n",
    "    print('a squared is', a2)\n",
    "    print('b squared is', b2)\n",
    "    return 0.0\n",
    "\n",
    "print(hypotenuse (3, 4))"
   ]
  },
  {
   "cell_type": "code",
   "execution_count": 15,
   "metadata": {
    "collapsed": false
   },
   "outputs": [
    {
     "name": "stdout",
     "output_type": "stream",
     "text": [
      "a squared is 9\n",
      "b squared is 16\n",
      "a squared + b squared is 25\n",
      "0.0\n"
     ]
    }
   ],
   "source": [
    "def hypotenuse (a, b):\n",
    "    a2 = a**2\n",
    "    b2 = b**2\n",
    "    c2 = a2 + b2\n",
    "    print('a squared is', a2)\n",
    "    print('b squared is', b2)\n",
    "    print('a squared + b squared is', c2)\n",
    "    return 0.0\n",
    "\n",
    "print(hypotenuse (3, 4))"
   ]
  },
  {
   "cell_type": "code",
   "execution_count": 22,
   "metadata": {
    "collapsed": false
   },
   "outputs": [
    {
     "name": "stdout",
     "output_type": "stream",
     "text": [
      "5.0\n"
     ]
    }
   ],
   "source": [
    "import math;\n",
    "\n",
    "def hypotenuse (a, b):\n",
    "    a2 = a**2\n",
    "    b2 = b**2\n",
    "    c2 = a2 + b2\n",
    "    c = math.sqrt(c2)\n",
    "    return c\n",
    "\n",
    "print(hypotenuse (3, 4))"
   ]
  },
  {
   "cell_type": "markdown",
   "metadata": {},
   "source": [
    "### Chapter 6.4\n",
    "Write a function `is_between(x, y, z)` that returns `True` if `x ≤ y ≤ z` or `False` otherwise."
   ]
  },
  {
   "cell_type": "code",
   "execution_count": 23,
   "metadata": {
    "collapsed": false
   },
   "outputs": [
    {
     "name": "stdout",
     "output_type": "stream",
     "text": [
      "True\n",
      "False\n"
     ]
    }
   ],
   "source": [
    "def is_between(x, y, z):\n",
    "    if x <= y and y <= z:\n",
    "        return True\n",
    "    else:\n",
    "        return False\n",
    "\n",
    "print(is_between(1, 2, 3))\n",
    "print(is_between(1, 2, 1))"
   ]
  },
  {
   "cell_type": "markdown",
   "metadata": {},
   "source": [
    "## [Chapter 7](http://greenteapress.com/thinkpython2/html/thinkpython2008.html)\n",
    "\n"
   ]
  },
  {
   "cell_type": "markdown",
   "metadata": {},
   "source": [
    "**Quick check:** How do you test for equality in Python?"
   ]
  },
  {
   "cell_type": "markdown",
   "metadata": {},
   "source": [
    "To  test for equality in Python, one must use '=='."
   ]
  },
  {
   "cell_type": "markdown",
   "metadata": {},
   "source": [
    "**Challenge:** Prove/disprove the Collatz conjecture :)"
   ]
  },
  {
   "cell_type": "markdown",
   "metadata": {},
   "source": [
    "Is that even possible?"
   ]
  },
  {
   "cell_type": "markdown",
   "metadata": {},
   "source": [
    "### Chapter 7.5\n",
    "Encapsulate the loop from Section 7.5 in a function called `square_root` that takes `a` as a parameter, chooses a reasonable value of `x`, and returns an estimate of the square root of `a`."
   ]
  },
  {
   "cell_type": "code",
   "execution_count": 34,
   "metadata": {
    "collapsed": false
   },
   "outputs": [
    {
     "name": "stdout",
     "output_type": "stream",
     "text": [
      "1.0\n",
      "1.414213562373095\n",
      "2.0\n"
     ]
    }
   ],
   "source": [
    "def square_root(a):\n",
    "    x = 1\n",
    "    while True:\n",
    "        y = (x + a/x)/2\n",
    "        if y == x:\n",
    "            break\n",
    "        x = y\n",
    "    return y\n",
    "\n",
    "print(square_root(1))\n",
    "print(square_root(2))\n",
    "print(square_root(4))"
   ]
  },
  {
   "cell_type": "markdown",
   "metadata": {},
   "source": [
    "### Exercise 7.1  \n",
    "To test the square root algorithm you developed in Exercise 2, you could compare it with Python's `math.sqrt` function. Write a function named `test_square_root` that prints a table like this:\n",
    "\n",
    "```python\n",
    "1.0 1.0           1.0           0.0\n",
    "2.0 1.41421356237 1.41421356237 2.22044604925e-16\n",
    "3.0 1.73205080757 1.73205080757 0.0\n",
    "4.0 2.0           2.0           0.0\n",
    "5.0 2.2360679775  2.2360679775  0.0\n",
    "6.0 2.44948974278 2.44948974278 0.0\n",
    "7.0 2.64575131106 2.64575131106 0.0\n",
    "8.0 2.82842712475 2.82842712475 4.4408920985e-16\n",
    "9.0 3.0           3.0           0.0\n",
    "```\n",
    "\n",
    "The first column is a number, `a`; the second column is the square root of a computed with the function from Section 7.5; the third column is the square root computed by `math.sqrt`; the fourth column is the absolute value of the difference between the two estimates."
   ]
  },
  {
   "cell_type": "code",
   "execution_count": 75,
   "metadata": {
    "collapsed": false
   },
   "outputs": [
    {
     "name": "stdout",
     "output_type": "stream",
     "text": [
      "1.0 1.0                1.0                0.0\n",
      "2.0 1.414213562373095  1.4142135623730951 2.220446049250313e-16\n",
      "3.0 1.7320508075688772 1.7320508075688772 0.0\n",
      "4.0 2.0                2.0                0.0\n",
      "5.0 2.23606797749979   2.23606797749979   0.0\n",
      "6.0 2.449489742783178  2.449489742783178  0.0\n",
      "7.0 2.6457513110645907 2.6457513110645907 0.0\n",
      "8.0 2.82842712474619   2.8284271247461903 4.440892098500626e-16\n",
      "9.0 3.0                3.0                0.0\n"
     ]
    }
   ],
   "source": [
    "import math\n",
    "\n",
    "a1 = square_root(1.0)\n",
    "a2 = math.sqrt(1.0)\n",
    "a3 = a1-a2\n",
    "print('1.0', a1, '              ', a2, '              ', abs(a3))\n",
    "\n",
    "a1 = square_root(2.0)\n",
    "a2 = math.sqrt(2.0)\n",
    "a3 = a1-a2\n",
    "print('2.0', a1, '', a2, abs(a3))\n",
    "\n",
    "a1 = square_root(3.0)\n",
    "a2 = math.sqrt(3.0)\n",
    "a3 = a1-a2\n",
    "print('3.0', a1, a2, abs(a3))\n",
    "\n",
    "a1 = square_root(4.0)\n",
    "a2 = math.sqrt(4.0)\n",
    "a3 = a1-a2\n",
    "print('4.0', a1, '              ', a2, '              ', abs(a3))\n",
    "\n",
    "a1 = square_root(5.0)\n",
    "a2 = math.sqrt(5.0)\n",
    "a3 = a1-a2\n",
    "print('5.0', a1, ' ', a2, ' ', abs(a3))\n",
    "\n",
    "a1 = square_root(6.0)\n",
    "a2 = math.sqrt(6.0)\n",
    "a3 = a1-a2\n",
    "print('6.0', a1, '', a2, '', abs(a3))\n",
    "\n",
    "a1 = square_root(7.0)\n",
    "a2 = math.sqrt(7.0)\n",
    "a3 = a1-a2\n",
    "print('7.0', a1, a2, abs(a3))\n",
    "\n",
    "a1 = square_root(8.0)\n",
    "a2 = math.sqrt(8.0)\n",
    "a3 = a1-a2\n",
    "print('8.0', a1, ' ', a2, abs(a3))\n",
    "\n",
    "a1 = square_root(9.0)\n",
    "a2 = math.sqrt(9.0)\n",
    "a3 = a1-a2\n",
    "print('9.0', a1, '              ', a2, '              ', abs(a3))"
   ]
  },
  {
   "cell_type": "markdown",
   "metadata": {},
   "source": [
    "### Challenge: Exercise 7.3  (optional)\n",
    "The mathematician Srinivasa Ramanujan found an infinite series that can be used to generate a numerical approximation of\n",
    "$\\frac{1}{\\pi}$:\n",
    "\n",
    "$$\\frac{1}{\\pi} = \\frac{2 \\sqrt{2}}{9801} \\sum_{k=0}^{\\infty} \\frac{(4k)! (1103+26390k)}{(k!)^4 396^{4k}}$$\n",
    " \n",
    "Write a function called `estimate_pi` that uses this formula to compute and return an estimate of $\\pi$. It should use a `while` loop to compute terms of the summation until the last term is smaller than `1e-15` (which is Python notation for $10^{−15}$). You can check the result by comparing it to `math.pi`.\n",
    "\n",
    "[Possible solution](http://thinkpython.com/code/pi.py) (give the exercise a try before viewing the solution)"
   ]
  },
  {
   "cell_type": "code",
   "execution_count": null,
   "metadata": {
    "collapsed": true
   },
   "outputs": [],
   "source": []
  },
  {
   "cell_type": "markdown",
   "metadata": {},
   "source": [
    "## Quick poll\n",
    "\n",
    "About how long did you spend working on this Reading Journal?"
   ]
  },
  {
   "cell_type": "markdown",
   "metadata": {},
   "source": [
    "2 hours"
   ]
  },
  {
   "cell_type": "markdown",
   "metadata": {},
   "source": [
    "## Reading Journal feedback\n",
    "\n",
    "Have any comments on this Reading Journal? Feel free to leave them below and we'll read them when you submit your journal entry. This could include suggestions to improve the exercises, topics you'd like to see covered in class next time, or other feedback.\n",
    "\n",
    "If you have Python questions or run into problems while completing the reading, you should post them to Piazza instead so you can get a quick response before your journal is submitted."
   ]
  },
  {
   "cell_type": "markdown",
   "metadata": {},
   "source": [
    "Could we go over the challenge (Exercise 7.3)? I know that I can see the solution but I don't quite understand the logic/what is going on. Also, I wasn't sure how to print out a table using for loops and such, so I ended up figuring out the spaces by hand - so I'd kind of like to know how to create a table with for loops (or code that we know). And for some of the section where it wanted me to use a function from the previous section, it didn't work unless I also copied and pasted the function itself - any help with that?"
   ]
  },
  {
   "cell_type": "markdown",
   "metadata": {},
   "source": [
    " "
   ]
  }
 ],
 "metadata": {
  "kernelspec": {
   "display_name": "Python 3",
   "language": "python",
   "name": "python3"
  },
  "language_info": {
   "codemirror_mode": {
    "name": "ipython",
    "version": 3
   },
   "file_extension": ".py",
   "mimetype": "text/x-python",
   "name": "python",
   "nbconvert_exporter": "python",
   "pygments_lexer": "ipython3",
   "version": "3.5.2"
  }
 },
 "nbformat": 4,
 "nbformat_minor": 0
}
