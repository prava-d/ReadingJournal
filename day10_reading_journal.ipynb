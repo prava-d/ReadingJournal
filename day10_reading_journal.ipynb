{
 "cells": [
  {
   "cell_type": "markdown",
   "metadata": {},
   "source": [
    "# Day 10 Reading Journal\n",
    "\n",
    "This journal includes several required exercises, but it is meant to encourage active reading more generally.  You should use the journal to take detailed notes, catalog questions, and explore the content from Think Python deeply.\n",
    "\n",
    "Reading: Review Think Python Chapters 15-17\n",
    "\n",
    "**Due: Thursday, February 23 at 12 noon**\n",
    "\n"
   ]
  },
  {
   "cell_type": "markdown",
   "metadata": {},
   "source": [
    "## [Chapter 15](http://www.greenteapress.com/thinkpython2/html/thinkpython2016.html), [Chapter 16](http://www.greenteapress.com/thinkpython2/html/thinkpython2017.html), [Chapter 17](http://www.greenteapress.com/thinkpython2/html/thinkpython2018.html)\n",
    "\n",
    "\n",
    "By the end of chapter 17, we have all the tools we need to create our own user-defined types known as classes. In this reading journal, we're asking you to review and solidify your understanding of this material so we can build on it for the rest of the course. \n",
    "\n",
    "If you didn't get a chance to fully complete the Day 9 reading journal, you may want to do so now."
   ]
  },
  {
   "cell_type": "markdown",
   "metadata": {
    "problem": "Terminology"
   },
   "source": [
    "### Terminology\n",
    "\n",
    "You should be familiar with the following list of terms and concepts. If any of them are unclear to you, re-read, ask, write a definition in your own words, and try an example if appropriate.\n",
    "\n",
    " - class\n",
    " - object\n",
    " - instance\n",
    " - attribute\n",
    " - method\n",
    " - shallow vs deep copying\n",
    " - pure functions vs modifiers\n",
    " - initializing object instances\n",
    " "
   ]
  },
  {
   "cell_type": "markdown",
   "metadata": {
    "is_question": true,
    "problem": "Exercise 1"
   },
   "source": [
    "### Exercise\n",
    "\n",
    "We're going to take the first steps toward writing a calendar application. To keep things simple, we'll restrict ourselves to a single day for now. Write an `Event` class with the following attributes:\n",
    "\n",
    " - `name`  : Title for the `Event`\n",
    " - `start` : `Time` object representing the start time for the `Event`\n",
    " - `end`   : `Time` object representing the end time for the `Event`\n",
    "\n",
    "You can also augment your `Event` class with additional attributes, such as location and attendees.\n",
    "\n",
    "Write `__init__` and `__str__` methods for your `Event` class."
   ]
  },
  {
   "cell_type": "code",
   "execution_count": 10,
   "metadata": {
    "collapsed": false,
    "solution": "Exercise 1"
   },
   "outputs": [
    {
     "name": "stdout",
     "output_type": "stream",
     "text": [
      "SoftDes starts at 01:02:03 and ends at 04:05:06.\n"
     ]
    }
   ],
   "source": [
    "class Time:\n",
    "    \"\"\"Represents the time of day.\"\"\"\n",
    "\n",
    "    def __init__(self, hour=0, minute=0, second=0):\n",
    "        self.hour = hour\n",
    "        self.minute = minute\n",
    "        self.second = second\n",
    "    \n",
    "    def __str__(self):\n",
    "        return '%.2d:%.2d:%.2d' % (self.hour, self.minute, self.second)\n",
    "    \n",
    "    def is_after(t1, t2):\n",
    "        return (t1.hour*3600 + t1.minute*60 + t1.second) > (t2.hour*3600 + t2.minute*60 + t2.second)\n",
    "    \n",
    "class Calendar:\n",
    "    \"\"\"Represents a calendar\"\"\"\n",
    "    \n",
    "    def __init__(self, name, start, end):\n",
    "        self.name = name #event title\n",
    "        self.start = start #Time object\n",
    "        self.end = end #Time object\n",
    "    \n",
    "    def __str__(self):\n",
    "        return self.name + ' starts at ' + str(self.start) + ' and ends at ' + str(self.end) + '.' \n",
    "    \n",
    "start_time = Time(1, 2, 3)\n",
    "end_time = Time(4, 5, 6)\n",
    "cal_2017 = Calendar('SoftDes', start_time, end_time)\n",
    "\n",
    "print(cal_2017)"
   ]
  },
  {
   "cell_type": "markdown",
   "metadata": {
    "is_question": true,
    "problem": "Exercise 2"
   },
   "source": [
    "### Exercise\n",
    "\n",
    "Write a `duration` method that returns the duration of the `Event` in minutes."
   ]
  },
  {
   "cell_type": "code",
   "execution_count": 9,
   "metadata": {
    "collapsed": false,
    "solution": "Exercise 2"
   },
   "outputs": [
    {
     "name": "stdout",
     "output_type": "stream",
     "text": [
      "183.05\n"
     ]
    }
   ],
   "source": [
    "class Calendar:\n",
    "    \"\"\"Represents a calendar\"\"\"\n",
    "    \n",
    "    def __init__(self, name, start, end):\n",
    "        self.name = name #event title\n",
    "        self.start = start #Time object\n",
    "        self.end = end #Time object\n",
    "    \n",
    "    def __str__(self):\n",
    "        return self.name + ' starts at ' + str(self.start) + ' and ends at ' + str(self.end) + '.' \n",
    "    \n",
    "    def duration (self):\n",
    "        return (self.end.hour*60 + self.end.minute + self.end.second/60) - (self.start.hour*60 + self.start.minute + self.start.second/60)\n",
    "    \n",
    "print(Calendar.duration(cal_2017))"
   ]
  },
  {
   "cell_type": "markdown",
   "metadata": {
    "is_question": true,
    "problem": "Exercise 3"
   },
   "source": [
    "### Exercise\n",
    "\n",
    "Write an `Agenda` class that contains several `Event`s for the day.\n",
    "\n",
    "**Quick check: ** How should you store `Event`s within your `Agenda` class?\n"
   ]
  },
  {
   "cell_type": "markdown",
   "metadata": {},
   "source": [
    "This may be wrong - but maybe in a list? That seems like it would be helpful."
   ]
  },
  {
   "cell_type": "markdown",
   "metadata": {},
   "source": [
    " "
   ]
  },
  {
   "cell_type": "markdown",
   "metadata": {},
   "source": [
    "Your `Agenda` class should include a `print_agenda` method that prints out your schedule for the day, in order.\n",
    "\n",
    "**Optional:** Include a `is_feasible` method that returns `True` if your schedule has no time conflicts. You may want to write additional helper methods for the `Event` class to make this easier."
   ]
  },
  {
   "cell_type": "code",
   "execution_count": 3,
   "metadata": {
    "collapsed": false,
    "solution": "Exercise 3"
   },
   "outputs": [
    {
     "name": "stdout",
     "output_type": "stream",
     "text": [
      "To do: classes\n",
      "    SoftDes starts at 01:00:00 and ends at 02:00:00.\n",
      "    QEA starts at 03:00:00 and ends at 04:00:00.\n",
      "    P&M starts at 05:00:00 and ends at 06:00:00.\n"
     ]
    }
   ],
   "source": [
    "class Time:\n",
    "    \"\"\"Represents the time of day.\"\"\"\n",
    "\n",
    "    def __init__(self, hour=0, minute=0, second=0):\n",
    "        self.hour = hour\n",
    "        self.minute = minute\n",
    "        self.second = second\n",
    "    \n",
    "    def __str__(self):\n",
    "        return '%.2d:%.2d:%.2d' % (self.hour, self.minute, self.second)\n",
    "    \n",
    "    def is_after(t1, t2):\n",
    "        return (t1.hour*3600 + t1.minute*60 + t1.second) > (t2.hour*3600 + t2.minute*60 + t2.second)\n",
    "    \n",
    "class Calendar:\n",
    "    \"\"\"Represents a calendar\"\"\"\n",
    "    \n",
    "    def __init__(self, name, start, end):\n",
    "        self.name = name #event title\n",
    "        self.start = start #Time object\n",
    "        self.end = end #Time object\n",
    "    \n",
    "    def __str__(self):\n",
    "        return self.name + ' starts at ' + str(self.start) + ' and ends at ' + str(self.end) + '.' \n",
    "\n",
    "class Agenda:\n",
    "    \"\"\"Represents an agenda, or multiple events, per day\"\"\"\n",
    "    \n",
    "    def __init__(self, name, events=None):\n",
    "        self.name = name\n",
    "        if events == None:\n",
    "            self.events = []\n",
    "        else:\n",
    "            self.events = events\n",
    "    \n",
    "    def add_event(self, other):\n",
    "        self.events.append(other)\n",
    "        \n",
    "    def __str__(self):\n",
    "        t = ['To do: ' + self.name]\n",
    "        for event in self.events:\n",
    "            s = '    ' + str(event)\n",
    "            t.append(s)\n",
    "        return '\\n'.join(t)\n",
    "    \n",
    "    def print_agenda(self):\n",
    "        print(self)\n",
    "\n",
    "\n",
    "class1 = Calendar('SoftDes', Time(1, 0, 0), Time (2, 0, 0))\n",
    "class2 = Calendar('QEA', Time(3, 0, 0), Time (4, 0, 0))\n",
    "class3 = Calendar('P&M', Time(5, 0, 0), Time (6, 0, 0))\n",
    "\n",
    "feb1 = Agenda('classes', [class1, class2, class3])\n",
    "\n",
    "print(feb1)"
   ]
  },
  {
   "cell_type": "markdown",
   "metadata": {
    "is_question": true,
    "problem": "Exercise 4"
   },
   "source": [
    "### Going Beyond (optional)\n",
    "\n",
    "Some ideas for taking your application further:\n",
    " - Add people and/or places to the mix to create a scheduling assistant\n",
    " - Extend support for day-of-week or full date. A word of warning: dealing with dates and times in real applications is difficult due to the huge number of special cases (Perfect example: this reading journal is due on Leap Day). Consider using something like the Python [datetime](https://docs.python.org/3/library/datetime.html) module.\n",
    " - Use pickle or some other persistence strategy to save and load your `Agenda`."
   ]
  },
  {
   "cell_type": "code",
   "execution_count": null,
   "metadata": {
    "collapsed": true,
    "solution": "Exercise 4"
   },
   "outputs": [],
   "source": []
  },
  {
   "cell_type": "markdown",
   "metadata": {
    "poll_response": true,
    "solution": "Time spent"
   },
   "source": [
    " "
   ]
  },
  {
   "cell_type": "markdown",
   "metadata": {
    "is_question": true,
    "problem": "Feedback"
   },
   "source": [
    "## Reading Journal feedback\n",
    "\n",
    "[Please complete this short survey](https://docs.google.com/forms/d/e/1FAIpQLScQekhUrf6YYjpfQiAAbavLIA-IJklv_PX1BWbGgxj7JPolmw/viewform?c=0&w=1)\n",
    "\n",
    "If you have any comments on this Reading Journal, feel free to leave them in the survey linked above. This could include suggestions to improve the exercises, topics you'd like to see covered in class next time, or other feedback.\n",
    "\n",
    "If you have Python questions or run into problems while completing the reading, you should post them to Piazza instead so you can get a quick response before your journal is submitted."
   ]
  },
  {
   "cell_type": "markdown",
   "metadata": {
    "feedback_response": true,
    "solution": "Feedback"
   },
   "source": [
    " "
   ]
  }
 ],
 "metadata": {
  "kernelspec": {
   "display_name": "Python 3",
   "language": "python",
   "name": "python3"
  },
  "language_info": {
   "codemirror_mode": {
    "name": "ipython",
    "version": 3
   },
   "file_extension": ".py",
   "mimetype": "text/x-python",
   "name": "python",
   "nbconvert_exporter": "python",
   "pygments_lexer": "ipython3",
   "version": "3.5.2"
  }
 },
 "nbformat": 4,
 "nbformat_minor": 0
}
