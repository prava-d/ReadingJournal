{
 "cells": [
  {
   "cell_type": "markdown",
   "metadata": {},
   "source": [
    "# Day 1 Reading Journal\n",
    "\n",
    "Hi everyone.  These are the exercises for the first set of readings from ThinkPython.  While this journal consists of several required exercises, it is meant to encourage active reading more generally.  You should use this journal to take detailed notes, catalog questions, and explore the content from ThinkPython deeply.\n",
    "\n",
    "For more information on using the Jupyter notebook, check out the documentation [here](https://www.datacamp.com/community/tutorials/tutorial-jupyter-notebook##UseJupyter).\n",
    "\n",
    "Additionally, in order to write text in this document, you will be making use of Markdown cells. A handy cheatsheet for Markdown is available [here](https://github.com/adam-p/markdown-here/wiki/Markdown-Cheatsheet)."
   ]
  },
  {
   "cell_type": "markdown",
   "metadata": {},
   "source": [
    "## Chapter 1\n",
    "\n",
    "Note: the exercise numbers below match up with the reading for ease of cross referencing."
   ]
  },
  {
   "cell_type": "markdown",
   "metadata": {},
   "source": [
    "### Exercise 1.2\n",
    "\n",
    "Start the Python interpreter and use it as a calculator. Python’s syntax for math operations is almost the same as standard mathematical notation. For example, the symbols +, - and / denote addition, subtraction and division, as you would expect. The symbol for multiplication is *.\n",
    "\n",
    "* How many seconds are there in 42 minutes 42 seconds?\n",
    "* How many miles are there in 10 kilometers? Hint: there are 1.61 kilometers in a mile.\n",
    "* If you run a 10 kilometer race in 42 minutes 42 seconds, what is your average pace (time per mile in minutes and seconds)? What is your average speed in miles per hour?"
   ]
  },
  {
   "cell_type": "code",
   "execution_count": 25,
   "metadata": {
    "collapsed": false
   },
   "outputs": [
    {
     "name": "stdout",
     "output_type": "stream",
     "text": [
      "2562 seconds\n",
      "6.211180124223602 miles\n",
      "6 minutes 52.48200000000003 seconds per mile\n",
      "8.727653570337614 miles per hour\n"
     ]
    }
   ],
   "source": [
    "ans1 = 42*60 + 42\n",
    "print(str(ans1) + \" seconds\")\n",
    "\n",
    "ans2 = 10/1.61\n",
    "print(str(ans2) + \" miles\")\n",
    "\n",
    "ans3ai = (ans1/ans2)%60\n",
    "ans3aii = int((ans1/ans2)/60)\n",
    "print(str(ans3aii) + \" minutes \" + str(ans3ai) + \" seconds per mile\")\n",
    "ans3b = ans2/(ans1/3600)\n",
    "print(str(ans3b) + \" miles per hour\")"
   ]
  },
  {
   "cell_type": "markdown",
   "metadata": {},
   "source": [
    "## Chapter 2"
   ]
  },
  {
   "cell_type": "markdown",
   "metadata": {},
   "source": [
    "### Exercise\n",
    "\n",
    "Assume that we execute the following assignment statements:\n",
    "\n",
    "```\n",
    "width = 17\n",
    "height = 12.0\n",
    "delimiter = '.'\n",
    "```\n",
    "\n",
    "For each of the following expressions, write the value of the expression and the type (of the value of the expression).\n",
    "\n",
    "1. `width/2`\n",
    "2. `width/2.0`\n",
    "3. `height/3`\n",
    "4. `1 + 2 * 5`\n",
    "5. `delimiter * 5`\n",
    "\n",
    "Please use the following markdown cell to provide your answer."
   ]
  },
  {
   "cell_type": "code",
   "execution_count": 32,
   "metadata": {
    "collapsed": false
   },
   "outputs": [
    {
     "name": "stdout",
     "output_type": "stream",
     "text": [
      "8.5 - float\n",
      "8.5 - float\n",
      "4.0 - float\n",
      "11 - int\n",
      "..... - float\n"
     ]
    }
   ],
   "source": [
    "width = 17\n",
    "height = 12.0\n",
    "delimiter = '.'\n",
    "\n",
    "ans1 = width/2\n",
    "print(str(ans1) + \" - float\")\n",
    "ans2 = width/2.0\n",
    "print(str(ans2) + \" - float\")\n",
    "ans3 = height/3\n",
    "print(str(ans3) + \" - float\")\n",
    "ans4 = 1 + 2 * 5\n",
    "print(str(ans4) + \" - int\")\n",
    "ans5 = delimiter * 5\n",
    "print(str(ans5) + \" - float\")"
   ]
  },
  {
   "cell_type": "markdown",
   "metadata": {},
   "source": [
    "### Exercise 2\n",
    "\n",
    "Practice using the Python interpreter as a calculator.  For each of these provide Python code that computes each answer."
   ]
  },
  {
   "cell_type": "markdown",
   "metadata": {},
   "source": [
    "The volume of a sphere with radius r is 4/3 $\\pi r^3$. What is the volume of a sphere with radius 5? Hint: 392.7 is wrong!"
   ]
  },
  {
   "cell_type": "code",
   "execution_count": 34,
   "metadata": {
    "collapsed": false
   },
   "outputs": [
    {
     "name": "stdout",
     "output_type": "stream",
     "text": [
      "523.5987755982989 units ^3\n"
     ]
    }
   ],
   "source": [
    "pi = 3.1415926535897932\n",
    "\n",
    "ans = (4/3)*pi*(5**3)\n",
    "\n",
    "print(str(ans) + \" units ^3\")"
   ]
  },
  {
   "cell_type": "markdown",
   "metadata": {},
   "source": [
    "Suppose the cover price of a book is \\$24.95, but bookstores get a 40% discount. Shipping costs \\$3 for the first copy and 75 cents for each additional copy. What is the total wholesale cost for 60 copies?"
   ]
  },
  {
   "cell_type": "code",
   "execution_count": 37,
   "metadata": {
    "collapsed": false
   },
   "outputs": [
    {
     "name": "stdout",
     "output_type": "stream",
     "text": [
      "$923.8499999999999\n"
     ]
    }
   ],
   "source": [
    "books = 60\n",
    "ans = 0.6*((24.95+0.75)*books-(3-0.75))\n",
    "\n",
    "print(\"$\" + str(ans))"
   ]
  },
  {
   "cell_type": "markdown",
   "metadata": {},
   "source": [
    "If I leave my house at 6:52 am and run 1 mile at an easy pace (8:15 per mile), then 3 miles at tempo (7:12 per mile) and 1 mile at easy pace again, what time do I get home for breakfast? "
   ]
  },
  {
   "cell_type": "code",
   "execution_count": 71,
   "metadata": {
    "collapsed": false
   },
   "outputs": [
    {
     "name": "stdout",
     "output_type": "stream",
     "text": [
      "7:30AM\n"
     ]
    }
   ],
   "source": [
    "time_sec = 6*60*60 + 52*60 + 2*(8*60 + 15) + 3*(7*60 + 12)\n",
    "\n",
    "hours = int(time_sec/(60*60))\n",
    "minutes = int((time_sec-hours*3600)/(60))\n",
    "\n",
    "print(str(hours) + \":\" + str(minutes) + \"AM\")"
   ]
  },
  {
   "cell_type": "markdown",
   "metadata": {},
   "source": [
    "## Chapter 3"
   ]
  },
  {
   "cell_type": "markdown",
   "metadata": {},
   "source": [
    "### Exercise 1\n",
    "\n",
    "Write a function named `right_justify` that takes a string named s as a parameter and prints the string with enough leading spaces so that the last letter of the string is in column 70 of the display.\n",
    "\n",
    "```\n",
    ">>> right_justify('monty')\n",
    "                                                                 monty\n",
    "```\n",
    "Hint: Use string concatenation and repetition. Also, Python provides a built-in function called `len` that returns the length of a string, so the value of `len('monty')` is 5."
   ]
  },
  {
   "cell_type": "code",
   "execution_count": 39,
   "metadata": {
    "collapsed": false
   },
   "outputs": [
    {
     "name": "stdout",
     "output_type": "stream",
     "text": [
      "                                                                 monty\n"
     ]
    }
   ],
   "source": [
    "def right_justify(s):\n",
    "    index = len(s)\n",
    "    space = ' '\n",
    "    num = 70 - index\n",
    "    ans = space*num + s\n",
    "    print(ans)\n",
    "right_justify('monty')"
   ]
  },
  {
   "cell_type": "markdown",
   "metadata": {},
   "source": [
    "### Exercise 5\n",
    "\n",
    "Note: This exercise should be done using only the statements and other features we have learned so far.\n",
    "\n",
    "Write a function that draws a grid like the following:\n",
    "\n",
    "```\n",
    "+ - - - - + - - - - +\n",
    "|         |         |\n",
    "|         |         |\n",
    "|         |         |\n",
    "|         |         |\n",
    "+ - - - - + - - - - +\n",
    "|         |         |\n",
    "|         |         |\n",
    "|         |         |\n",
    "|         |         |\n",
    "+ - - - - + - - - - +\n",
    "```\n",
    "\n",
    "*Hint*: to print more than one value on a line, you can print a comma-separated sequence of values:\n",
    "\n",
    "```\n",
    "print('+', '-')\n",
    "```\n",
    "\n",
    "By default, `print` advances to the next line, but you can override that behavior and put a space at the end, like this:\n",
    "\n",
    "```\n",
    "print('+', end=' ')\n",
    "print('-')\n",
    "```\n",
    "\n",
    "The output of these statements is '+ -'.\n",
    "\n",
    "A `print` statement with no argument ends the current line and goes to the next line."
   ]
  },
  {
   "cell_type": "code",
   "execution_count": 57,
   "metadata": {
    "collapsed": false
   },
   "outputs": [
    {
     "name": "stdout",
     "output_type": "stream",
     "text": [
      "+ - - - - + - - - - +\n",
      "|         |         |\n",
      "|         |         |\n",
      "|         |         |\n",
      "|         |         |\n",
      "+ - - - - + - - - - +\n",
      "|         |         |\n",
      "|         |         |\n",
      "|         |         |\n",
      "|         |         |\n",
      "+ - - - - + - - - - +\n"
     ]
    }
   ],
   "source": [
    "def top():\n",
    "    lines = '- - - -'\n",
    "    print('+', lines, '+', lines, '+')\n",
    "\n",
    "def body():\n",
    "    spaces = '       '\n",
    "    print('|',spaces,'|',spaces,'|')\n",
    "    print('|',spaces,'|',spaces,'|')\n",
    "    print('|',spaces,'|',spaces,'|')\n",
    "    print('|',spaces,'|',spaces,'|')\n",
    "    \n",
    "top()\n",
    "body()\n",
    "top()\n",
    "body()\n",
    "top()"
   ]
  },
  {
   "cell_type": "markdown",
   "metadata": {},
   "source": [
    "(b) Write a function that draws a similar grid with four rows and four columns."
   ]
  },
  {
   "cell_type": "code",
   "execution_count": 63,
   "metadata": {
    "collapsed": false
   },
   "outputs": [
    {
     "name": "stdout",
     "output_type": "stream",
     "text": [
      "+ - - - - + - - - - + - - - - + - - - - +\n",
      "|         |         |         |         |\n",
      "|         |         |         |         |\n",
      "|         |         |         |         |\n",
      "|         |         |         |         |\n",
      "+ - - - - + - - - - + - - - - + - - - - +\n",
      "|         |         |         |         |\n",
      "|         |         |         |         |\n",
      "|         |         |         |         |\n",
      "|         |         |         |         |\n",
      "+ - - - - + - - - - + - - - - + - - - - +\n",
      "|         |         |         |         |\n",
      "|         |         |         |         |\n",
      "|         |         |         |         |\n",
      "|         |         |         |         |\n",
      "+ - - - - + - - - - + - - - - + - - - - +\n",
      "|         |         |         |         |\n",
      "|         |         |         |         |\n",
      "|         |         |         |         |\n",
      "|         |         |         |         |\n",
      "+ - - - - + - - - - + - - - - + - - - - +\n"
     ]
    }
   ],
   "source": [
    "def edge():\n",
    "    lines = '- - - -'\n",
    "    print('+', lines, '+', lines, '+', lines, '+', lines, '+')\n",
    "\n",
    "def body():\n",
    "    spaces = '       '\n",
    "    print('|',spaces,'|',spaces,'|',spaces,'|',spaces,'|')\n",
    "    print('|',spaces,'|',spaces,'|',spaces,'|',spaces,'|')\n",
    "    print('|',spaces,'|',spaces,'|',spaces,'|',spaces,'|')\n",
    "    print('|',spaces,'|',spaces,'|',spaces,'|',spaces,'|')\n",
    "    \n",
    "edge()\n",
    "body()\n",
    "edge()\n",
    "body()\n",
    "edge()\n",
    "body()\n",
    "edge()\n",
    "body()\n",
    "edge()"
   ]
  },
  {
   "cell_type": "markdown",
   "metadata": {},
   "source": [
    "## Chapter 5.1 - 5.7"
   ]
  },
  {
   "cell_type": "markdown",
   "metadata": {},
   "source": [
    "### Exercise 2\n",
    "\n",
    "Fermat’s Last Theorem says that there are no positive integers $a$, $b$, and $c$ such that $$a^n + b^n = c^n$$ for any values of $n$ greater than 2.\n",
    "\n",
    "1\\. Write a function named `check_fermat` that takes four parameters – $a$, $b$, $c$ and $n$ – and that checks to see if Fermat’s theorem holds. If n is greater than 2 and it turns out to be true that\n",
    "$$a^n + b^n = c^n$$ the program should print, \"Holy smokes, Fermat was wrong!\" Otherwise the program should print, \"No, that doesn’t work.\""
   ]
  },
  {
   "cell_type": "code",
   "execution_count": 82,
   "metadata": {
    "collapsed": false
   },
   "outputs": [
    {
     "name": "stdout",
     "output_type": "stream",
     "text": [
      "No, that doesn't work.\n",
      "Fermet's theorem only applies to values of n greater than 2.\n"
     ]
    }
   ],
   "source": [
    "def check_fermet(a, b, c, n):\n",
    "    if n > 2:\n",
    "        if a**n + b**n == c**n:\n",
    "            print(\"Holy smokes, Fermat was wrong!\")\n",
    "        else:\n",
    "            print(\"No, that doesn't work.\")\n",
    "    else:\n",
    "        print(\"Fermet's theorem only applies to values of n greater than 2.\")\n",
    "        \n",
    "check_fermet(1, 2, 3, 4)\n",
    "check_fermet(1, 2, 3, 1)"
   ]
  },
  {
   "cell_type": "markdown",
   "metadata": {},
   "source": [
    "2\\. Write a function that prompts the user to input values for $a$, $b$, $c$ and $n$, converts them to integers, and uses `check_fermat` to check whether they violate Fermat’s theorem."
   ]
  },
  {
   "cell_type": "code",
   "execution_count": 5,
   "metadata": {
    "collapsed": false
   },
   "outputs": [
    {
     "name": "stdout",
     "output_type": "stream",
     "text": [
      "Value for a? 1\n",
      "Value for b? 2\n",
      "Value for c? 3\n",
      "Value for n? 4\n",
      "No, that doesn't work.\n",
      "Value for a? 1\n",
      "Value for b? 2\n",
      "Value for c? 3\n",
      "Value for n? 1\n",
      "Fermet's theorem only applies to values of n greater than 2.\n"
     ]
    }
   ],
   "source": [
    "def check_fermet(a, b, c, n):\n",
    "    if n > 2:\n",
    "        if a**n + b**n == c**n:\n",
    "            print(\"Holy smokes, Fermat was wrong!\")\n",
    "        else:\n",
    "            print(\"No, that doesn't work.\")\n",
    "    else:\n",
    "        print(\"Fermet's theorem only applies to values of n greater than 2.\")\n",
    "\n",
    "def input_fermet():\n",
    "    a = int(input(\"Value for a? \"))\n",
    "    b = int(input(\"Value for b? \"))\n",
    "    c = int(input(\"Value for c? \"))\n",
    "    n = int(input(\"Value for n? \"))\n",
    "    check_fermet(a, b, c, n)\n",
    "        \n",
    "input_fermet()\n",
    "input_fermet()"
   ]
  },
  {
   "cell_type": "markdown",
   "metadata": {},
   "source": [
    "### Exercise 4  \n",
    "\n",
    "If you are given three sticks, you may or may not be able to arrange them in a triangle. For example, if one of the sticks is 12 inches long and the other two are one inch long, it is clear that you will not be able to get the short sticks to meet in the middle. For any three lengths, there is a simple test to see if it is possible to form a triangle:\n",
    "> If any of the three lengths is greater than the sum of the other two, then you cannot form a triangle. Otherwise, you can. (If the sum of two lengths equals the third, they form what is called a “degenerate” triangle.)\n",
    "\n",
    "1\\. Write a function named `is_triangle` that takes three integers as arguments, and that prints either \"Yes\" or \"No,\" depending on whether you can or cannot form a triangle from sticks with the given lengths."
   ]
  },
  {
   "cell_type": "code",
   "execution_count": 6,
   "metadata": {
    "collapsed": false
   },
   "outputs": [
    {
     "name": "stdout",
     "output_type": "stream",
     "text": [
      "Yes\n",
      "No\n",
      "Trying:\n",
      "    is_triangle(3, 4, 5)\n",
      "Expecting:\n",
      "    Yes\n",
      "ok\n",
      "1 items had no tests:\n",
      "    __main__\n",
      "1 items passed all tests:\n",
      "   1 tests in __main__.is_triangle\n",
      "1 tests in 2 items.\n",
      "1 passed and 0 failed.\n",
      "Test passed.\n"
     ]
    },
    {
     "data": {
      "text/plain": [
       "TestResults(failed=0, attempted=1)"
      ]
     },
     "execution_count": 6,
     "metadata": {},
     "output_type": "execute_result"
    }
   ],
   "source": [
    "import doctest\n",
    "\n",
    "def is_triangle(a, b, c):\n",
    "    '''\n",
    "    >>> is_triangle(3, 4, 5)\n",
    "    Yes\n",
    "    '''\n",
    "    \n",
    "    if a > b + c or b > a + c or c > a + b:\n",
    "        print(\"No\")\n",
    "    else:\n",
    "        print(\"Yes\")\n",
    "        \n",
    "is_triangle(3, 4, 5)\n",
    "is_triangle(3, 4, 8)\n",
    "\n",
    "doctest.testmod(verbose=True)"
   ]
  },
  {
   "cell_type": "markdown",
   "metadata": {},
   "source": [
    "2\\. Write a function that prompts the user to input three stick lengths, converts them to integers, and uses `is_triangle` to check whether sticks with the given lengths can form a triangle."
   ]
  },
  {
   "cell_type": "code",
   "execution_count": 12,
   "metadata": {
    "collapsed": false
   },
   "outputs": [
    {
     "name": "stdout",
     "output_type": "stream",
     "text": [
      "Value for a? 3\n",
      "Value for b? 4\n",
      "Value for c? 5\n",
      "Yes\n",
      "Value for a? 3\n",
      "Value for b? 4\n",
      "Value for c? 8\n",
      "No\n"
     ]
    }
   ],
   "source": [
    "def is_triangle(a, b, c):\n",
    "    if a > b + c or b > a + c or c > a + b:\n",
    "        print(\"No\")\n",
    "    else:\n",
    "        print(\"Yes\")\n",
    "\n",
    "def input_length():\n",
    "    a = int(input(\"Value for a? \"))\n",
    "    b = int(input(\"Value for b? \"))\n",
    "    c = int(input(\"Value for c? \"))\n",
    "    is_triangle(a, b, c)\n",
    "\n",
    "input_length()\n",
    "input_length()"
   ]
  },
  {
   "cell_type": "markdown",
   "metadata": {},
   "source": [
    "## Quick poll\n",
    "About how long did you spend working on this Reading Journal?"
   ]
  },
  {
   "cell_type": "markdown",
   "metadata": {},
   "source": [
    "5 hours"
   ]
  },
  {
   "cell_type": "markdown",
   "metadata": {},
   "source": [
    "## Notes for the Instructors\n",
    "\n",
    "Please use the space below to write comments to help us plan the next class session.  For instance, if you want to see us go over an example of a particular type of problem, you can indicate that here.\n",
    "\n",
    "Please remember that the best way to get quick feedback from the instructors as well as your peers, is to use Piazza.  However, consider using this channel if it doesn't make sense to post your note to Piazza."
   ]
  },
  {
   "cell_type": "markdown",
   "metadata": {},
   "source": [
    "I kind of want to see the grid problem with using for loops, since I tried to do that for my own sake and I didn't get it to work. But I also feel like eventually we'll do stuff like that, so . . ."
   ]
  }
 ],
 "metadata": {
  "kernelspec": {
   "display_name": "Python 3",
   "language": "python",
   "name": "python3"
  },
  "language_info": {
   "codemirror_mode": {
    "name": "ipython",
    "version": 3
   },
   "file_extension": ".py",
   "mimetype": "text/x-python",
   "name": "python",
   "nbconvert_exporter": "python",
   "pygments_lexer": "ipython3",
   "version": "3.5.2"
  }
 },
 "nbformat": 4,
 "nbformat_minor": 0
}
